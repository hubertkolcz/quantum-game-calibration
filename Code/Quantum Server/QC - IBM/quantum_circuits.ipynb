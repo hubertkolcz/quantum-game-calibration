{
  "nbformat": 4,
  "nbformat_minor": 0,
  "metadata": {
    "colab": {
      "provenance": []
    },
    "kernelspec": {
      "name": "python3",
      "display_name": "Python 3"
    },
    "language_info": {
      "name": "python"
    }
  },
  "cells": [
    {
      "cell_type": "code",
      "source": [
        "%pip install qiskit pylatexenc\n",
        "from qiskit import QuantumRegister, ClassicalRegister, QuantumCircuit\n",
        "from numpy import pi\n",
        "import matplotlib.pyplot as plt"
      ],
      "metadata": {
        "colab": {
          "base_uri": "https://localhost:8080/"
        },
        "id": "95VJe4kWfhXl",
        "outputId": "21f87497-fe87-435b-a9fd-0d183e995c68"
      },
      "execution_count": 11,
      "outputs": [
        {
          "output_type": "stream",
          "name": "stdout",
          "text": [
            "Requirement already satisfied: qiskit in /usr/local/lib/python3.10/dist-packages (1.2.1)\n",
            "Requirement already satisfied: pylatexenc in /usr/local/lib/python3.10/dist-packages (2.10)\n",
            "Requirement already satisfied: rustworkx>=0.15.0 in /usr/local/lib/python3.10/dist-packages (from qiskit) (0.15.1)\n",
            "Requirement already satisfied: numpy<3,>=1.17 in /usr/local/lib/python3.10/dist-packages (from qiskit) (1.26.4)\n",
            "Requirement already satisfied: scipy>=1.5 in /usr/local/lib/python3.10/dist-packages (from qiskit) (1.13.1)\n",
            "Requirement already satisfied: sympy>=1.3 in /usr/local/lib/python3.10/dist-packages (from qiskit) (1.13.2)\n",
            "Requirement already satisfied: dill>=0.3 in /usr/local/lib/python3.10/dist-packages (from qiskit) (0.3.8)\n",
            "Requirement already satisfied: python-dateutil>=2.8.0 in /usr/local/lib/python3.10/dist-packages (from qiskit) (2.8.2)\n",
            "Requirement already satisfied: stevedore>=3.0.0 in /usr/local/lib/python3.10/dist-packages (from qiskit) (5.3.0)\n",
            "Requirement already satisfied: typing-extensions in /usr/local/lib/python3.10/dist-packages (from qiskit) (4.12.2)\n",
            "Requirement already satisfied: symengine>=0.11 in /usr/local/lib/python3.10/dist-packages (from qiskit) (0.11.0)\n",
            "Requirement already satisfied: six>=1.5 in /usr/local/lib/python3.10/dist-packages (from python-dateutil>=2.8.0->qiskit) (1.16.0)\n",
            "Requirement already satisfied: pbr>=2.0.0 in /usr/local/lib/python3.10/dist-packages (from stevedore>=3.0.0->qiskit) (6.1.0)\n",
            "Requirement already satisfied: mpmath<1.4,>=1.1.0 in /usr/local/lib/python3.10/dist-packages (from sympy>=1.3->qiskit) (1.3.0)\n"
          ]
        }
      ]
    },
    {
      "cell_type": "code",
      "execution_count": 16,
      "metadata": {
        "colab": {
          "base_uri": "https://localhost:8080/",
          "height": 248
        },
        "id": "aRSqmsLOfXj3",
        "outputId": "f004dd50-5ee6-47ea-8864-9076a3161fc0"
      },
      "outputs": [
        {
          "output_type": "execute_result",
          "data": {
            "text/plain": [
              "            ┌───┐ ░ ┌───┐ ░            ░                      ░        ░  ┌───┐                ░ ┌───┐ ░ ┌─┐   \n",
              "       q_0: ┤ X ├─░─┤ H ├─░───■────■───░───■─────────■────────░────────░──┤ Z ├────────────────░─┤ H ├─░─┤M├───\n",
              "            └───┘ ░ ├───┤ ░ ┌─┴─┐  │   ░   │         │        ░        ░  └─╥─┘  ┌───┐         ░ ├───┤ ░ └╥┘┌─┐\n",
              "       q_1: ──────░─┤ H ├─░─┤ X ├──┼───░───┼────■────┼────────░────────░────╫────┤ Z ├─────────░─┤ H ├─░──╫─┤M├\n",
              "                  ░ ├───┤ ░ └───┘┌─┴─┐ ░   │    │    │        ░        ░    ║    └─╥─┘  ┌───┐  ░ ├───┤ ░  ║ └╥┘\n",
              "       q_2: ──────░─┤ H ├─░──────┤ X ├─░───┼────┼────┼────■───░────────░────╫──────╫────┤ Z ├──░─┤ H ├─░──╫──╫─\n",
              "                  ░ └───┘ ░      └───┘ ░ ┌─┴─┐┌─┴─┐  │    │   ░ ┌─┐    ░    ║      ║    └─╥─┘  ░ └───┘ ░  ║  ║ \n",
              "       q_3: ──────░───────░────────────░─┤ X ├┤ X ├──┼────┼───░─┤M├────░────╫──────╫──────╫────░───────░──╫──╫─\n",
              "                  ░       ░            ░ └───┘└───┘┌─┴─┐┌─┴─┐ ░ └╥┘┌─┐ ░    ║      ║      ║    ░       ░  ║  ║ \n",
              "       q_4: ──────░───────░────────────░───────────┤ X ├┤ X ├─░──╫─┤M├─░────╫──────╫──────╫────░───────░──╫──╫─\n",
              "                  ░       ░            ░           └───┘└───┘ ░  ║ └╥┘ ░    ║      ║      ║    ░       ░  ║  ║ \n",
              "    data: 3/═════════════════════════════════════════════════════╬══╬═══════╬══════╬══════╬═══════════════╩══╩═\n",
              "                                                                 ║  ║    ┌──╨──┐┌──╨──┐┌──╨──┐            0  1 \n",
              "syndrome: 2/═════════════════════════════════════════════════════╩══╩════╡ 0x0 ╞╡ 0x0 ╞╡ 0x0 ╞═════════════════\n",
              "                                                                 0  1    └─────┘└─────┘└─────┘                 "
            ],
            "text/html": [
              "<pre style=\"word-wrap: normal;white-space: pre;background: #fff0;line-height: 1.1;font-family: &quot;Courier New&quot;,Courier,monospace\">            ┌───┐ ░ ┌───┐ ░            ░                      ░        ░  ┌───┐                ░ ┌───┐ ░ ┌─┐   \n",
              "       q_0: ┤ X ├─░─┤ H ├─░───■────■───░───■─────────■────────░────────░──┤ Z ├────────────────░─┤ H ├─░─┤M├───\n",
              "            └───┘ ░ ├───┤ ░ ┌─┴─┐  │   ░   │         │        ░        ░  └─╥─┘  ┌───┐         ░ ├───┤ ░ └╥┘┌─┐\n",
              "       q_1: ──────░─┤ H ├─░─┤ X ├──┼───░───┼────■────┼────────░────────░────╫────┤ Z ├─────────░─┤ H ├─░──╫─┤M├\n",
              "                  ░ ├───┤ ░ └───┘┌─┴─┐ ░   │    │    │        ░        ░    ║    └─╥─┘  ┌───┐  ░ ├───┤ ░  ║ └╥┘\n",
              "       q_2: ──────░─┤ H ├─░──────┤ X ├─░───┼────┼────┼────■───░────────░────╫──────╫────┤ Z ├──░─┤ H ├─░──╫──╫─\n",
              "                  ░ └───┘ ░      └───┘ ░ ┌─┴─┐┌─┴─┐  │    │   ░ ┌─┐    ░    ║      ║    └─╥─┘  ░ └───┘ ░  ║  ║ \n",
              "       q_3: ──────░───────░────────────░─┤ X ├┤ X ├──┼────┼───░─┤M├────░────╫──────╫──────╫────░───────░──╫──╫─\n",
              "                  ░       ░            ░ └───┘└───┘┌─┴─┐┌─┴─┐ ░ └╥┘┌─┐ ░    ║      ║      ║    ░       ░  ║  ║ \n",
              "       q_4: ──────░───────░────────────░───────────┤ X ├┤ X ├─░──╫─┤M├─░────╫──────╫──────╫────░───────░──╫──╫─\n",
              "                  ░       ░            ░           └───┘└───┘ ░  ║ └╥┘ ░    ║      ║      ║    ░       ░  ║  ║ \n",
              "    data: 3/═════════════════════════════════════════════════════╬══╬═══════╬══════╬══════╬═══════════════╩══╩═\n",
              "                                                                 ║  ║    ┌──╨──┐┌──╨──┐┌──╨──┐            0  1 \n",
              "syndrome: 2/═════════════════════════════════════════════════════╩══╩════╡ 0x0 ╞╡ 0x0 ╞╡ 0x0 ╞═════════════════\n",
              "                                                                 0  1    └─────┘└─────┘└─────┘                 </pre>"
            ]
          },
          "metadata": {},
          "execution_count": 16
        }
      ],
      "source": [
        "# conditional phase-flip correction code\n",
        "\n",
        "qreg_q = QuantumRegister(5, 'q')\n",
        "creg_data = ClassicalRegister(3, 'data')\n",
        "creg_syndrome = ClassicalRegister(2, 'syndrome')\n",
        "circuit = QuantumCircuit(qreg_q, creg_data, creg_syndrome)\n",
        "\n",
        "circuit.x(qreg_q[0])\n",
        "circuit.barrier(qreg_q[0], qreg_q[1], qreg_q[2], qreg_q[3], qreg_q[4])\n",
        "circuit.h(qreg_q[0])\n",
        "circuit.h(qreg_q[1])\n",
        "circuit.h(qreg_q[2])\n",
        "circuit.barrier(qreg_q[0], qreg_q[1], qreg_q[2], qreg_q[3], qreg_q[4])\n",
        "circuit.cx(qreg_q[0], qreg_q[1])\n",
        "circuit.cx(qreg_q[0], qreg_q[2])\n",
        "circuit.barrier(qreg_q[0], qreg_q[1], qreg_q[2], qreg_q[3], qreg_q[4])\n",
        "circuit.cx(qreg_q[0], qreg_q[3])\n",
        "circuit.cx(qreg_q[1], qreg_q[3])\n",
        "circuit.cx(qreg_q[0], qreg_q[4])\n",
        "circuit.cx(qreg_q[2], qreg_q[4])\n",
        "circuit.barrier(qreg_q[0], qreg_q[1], qreg_q[2], qreg_q[3], qreg_q[4])\n",
        "circuit.measure(qreg_q[3], creg_syndrome[0])\n",
        "circuit.measure(qreg_q[4], creg_syndrome[1])\n",
        "circuit.barrier(qreg_q[0], qreg_q[1], qreg_q[2], qreg_q[3], qreg_q[4])\n",
        "circuit.z(qreg_q[0]).c_if(creg_syndrome, 0)\n",
        "circuit.z(qreg_q[1]).c_if(creg_syndrome, 0)\n",
        "circuit.z(qreg_q[2]).c_if(creg_syndrome, 0)\n",
        "circuit.barrier(qreg_q[0], qreg_q[1], qreg_q[2], qreg_q[3], qreg_q[4])\n",
        "circuit.h(qreg_q[0])\n",
        "circuit.h(qreg_q[1])\n",
        "circuit.h(qreg_q[2])\n",
        "circuit.barrier(qreg_q[0], qreg_q[1], qreg_q[2], qreg_q[3], qreg_q[4])\n",
        "circuit.measure(qreg_q[0], creg_data[0])\n",
        "circuit.measure(qreg_q[1], creg_data[1])\n",
        "circuit.draw(output='text', fold=-1)"
      ]
    },
    {
      "cell_type": "code",
      "source": [
        "# conditional bit-flip correction code\n",
        "\n",
        "qreg_q = QuantumRegister(5, 'q')\n",
        "creg_c0 = ClassicalRegister(3, 'c0')\n",
        "creg_c1 = ClassicalRegister(2, 'c1')\n",
        "circuit = QuantumCircuit(qreg_q, creg_c0, creg_c1)\n",
        "\n",
        "# Apply initial gates\n",
        "circuit.x(qreg_q[0])\n",
        "circuit.barrier(qreg_q[0], qreg_q[1], qreg_q[2])\n",
        "circuit.cx(qreg_q[0], qreg_q[1])\n",
        "# Conditional operations based on classical registers\n",
        "circuit.cx(qreg_q[0], qreg_q[2])\n",
        "circuit.barrier(qreg_q[0], qreg_q[1], qreg_q[2])\n",
        "circuit.cx(qreg_q[0], qreg_q[3])\n",
        "circuit.cx(qreg_q[1], qreg_q[3])\n",
        "circuit.cx(qreg_q[0], qreg_q[4])\n",
        "circuit.cx(qreg_q[2], qreg_q[4])\n",
        "circuit.barrier(qreg_q[0], qreg_q[1], qreg_q[2], qreg_q[3], qreg_q[4])\n",
        "circuit.measure(qreg_q[3], creg_c1[0])\n",
        "circuit.measure(qreg_q[4], creg_c1[1])\n",
        "circuit.x(qreg_q[3]).c_if(creg_c1, 1)\n",
        "circuit.x(qreg_q[4]).c_if(creg_c1, 1)\n",
        "circuit.barrier(qreg_q[0], qreg_q[1], qreg_q[2], qreg_q[3], qreg_q[4])\n",
        "circuit.x(qreg_q[0]).c_if(creg_c1, 0)\n",
        "circuit.x(qreg_q[1]).c_if(creg_c1, 0)\n",
        "circuit.x(qreg_q[2]).c_if(creg_c1, 0)\n",
        "circuit.barrier(qreg_q[0], qreg_q[1], qreg_q[2], qreg_q[3], qreg_q[4])\n",
        "circuit.measure(qreg_q[0], creg_c0[0])\n",
        "circuit.measure(qreg_q[1], creg_c0[1])\n",
        "circuit.measure(qreg_q[2], creg_c0[2])\n",
        "circuit.draw(output='text', fold=-1)"
      ],
      "metadata": {
        "colab": {
          "base_uri": "https://localhost:8080/",
          "height": 248
        },
        "id": "Rtl5QeMjfmlP",
        "outputId": "56792419-264a-455c-c84f-94ffa026b174"
      },
      "execution_count": 18,
      "outputs": [
        {
          "output_type": "execute_result",
          "data": {
            "text/plain": [
              "      ┌───┐ ░            ░                      ░                      ░  ┌───┐                ░ ┌─┐      \n",
              " q_0: ┤ X ├─░───■────■───░───■─────────■────────░──────────────────────░──┤ X ├────────────────░─┤M├──────\n",
              "      └───┘ ░ ┌─┴─┐  │   ░   │         │        ░                      ░  └─╥─┘  ┌───┐         ░ └╥┘┌─┐   \n",
              " q_1: ──────░─┤ X ├──┼───░───┼────■────┼────────░──────────────────────░────╫────┤ X ├─────────░──╫─┤M├───\n",
              "            ░ └───┘┌─┴─┐ ░   │    │    │        ░                      ░    ║    └─╥─┘  ┌───┐  ░  ║ └╥┘┌─┐\n",
              " q_2: ──────░──────┤ X ├─░───┼────┼────┼────■───░──────────────────────░────╫──────╫────┤ X ├──░──╫──╫─┤M├\n",
              "            ░      └───┘ ░ ┌─┴─┐┌─┴─┐  │    │   ░ ┌─┐    ┌───┐         ░    ║      ║    └─╥─┘  ░  ║  ║ └╥┘\n",
              " q_3: ─────────────────────┤ X ├┤ X ├──┼────┼───░─┤M├────┤ X ├─────────░────╫──────╫──────╫────░──╫──╫──╫─\n",
              "                           └───┘└───┘┌─┴─┐┌─┴─┐ ░ └╥┘┌─┐ └─╥─┘  ┌───┐  ░    ║      ║      ║    ░  ║  ║  ║ \n",
              " q_4: ───────────────────────────────┤ X ├┤ X ├─░──╫─┤M├───╫────┤ X ├──░────╫──────╫──────╫────░──╫──╫──╫─\n",
              "                                     └───┘└───┘ ░  ║ └╥┘   ║    └─╥─┘  ░    ║      ║      ║    ░  ║  ║  ║ \n",
              "c0: 3/═════════════════════════════════════════════╬══╬════╬══════╬═════════╬══════╬══════╬═══════╩══╩══╩═\n",
              "                                                   ║  ║ ┌──╨──┐┌──╨──┐   ┌──╨──┐┌──╨──┐┌──╨──┐    0  1  2 \n",
              "c1: 2/═════════════════════════════════════════════╩══╩═╡ 0x1 ╞╡ 0x1 ╞═══╡ 0x0 ╞╡ 0x0 ╞╡ 0x0 ╞════════════\n",
              "                                                   0  1 └─────┘└─────┘   └─────┘└─────┘└─────┘            "
            ],
            "text/html": [
              "<pre style=\"word-wrap: normal;white-space: pre;background: #fff0;line-height: 1.1;font-family: &quot;Courier New&quot;,Courier,monospace\">      ┌───┐ ░            ░                      ░                      ░  ┌───┐                ░ ┌─┐      \n",
              " q_0: ┤ X ├─░───■────■───░───■─────────■────────░──────────────────────░──┤ X ├────────────────░─┤M├──────\n",
              "      └───┘ ░ ┌─┴─┐  │   ░   │         │        ░                      ░  └─╥─┘  ┌───┐         ░ └╥┘┌─┐   \n",
              " q_1: ──────░─┤ X ├──┼───░───┼────■────┼────────░──────────────────────░────╫────┤ X ├─────────░──╫─┤M├───\n",
              "            ░ └───┘┌─┴─┐ ░   │    │    │        ░                      ░    ║    └─╥─┘  ┌───┐  ░  ║ └╥┘┌─┐\n",
              " q_2: ──────░──────┤ X ├─░───┼────┼────┼────■───░──────────────────────░────╫──────╫────┤ X ├──░──╫──╫─┤M├\n",
              "            ░      └───┘ ░ ┌─┴─┐┌─┴─┐  │    │   ░ ┌─┐    ┌───┐         ░    ║      ║    └─╥─┘  ░  ║  ║ └╥┘\n",
              " q_3: ─────────────────────┤ X ├┤ X ├──┼────┼───░─┤M├────┤ X ├─────────░────╫──────╫──────╫────░──╫──╫──╫─\n",
              "                           └───┘└───┘┌─┴─┐┌─┴─┐ ░ └╥┘┌─┐ └─╥─┘  ┌───┐  ░    ║      ║      ║    ░  ║  ║  ║ \n",
              " q_4: ───────────────────────────────┤ X ├┤ X ├─░──╫─┤M├───╫────┤ X ├──░────╫──────╫──────╫────░──╫──╫──╫─\n",
              "                                     └───┘└───┘ ░  ║ └╥┘   ║    └─╥─┘  ░    ║      ║      ║    ░  ║  ║  ║ \n",
              "c0: 3/═════════════════════════════════════════════╬══╬════╬══════╬═════════╬══════╬══════╬═══════╩══╩══╩═\n",
              "                                                   ║  ║ ┌──╨──┐┌──╨──┐   ┌──╨──┐┌──╨──┐┌──╨──┐    0  1  2 \n",
              "c1: 2/═════════════════════════════════════════════╩══╩═╡ 0x1 ╞╡ 0x1 ╞═══╡ 0x0 ╞╡ 0x0 ╞╡ 0x0 ╞════════════\n",
              "                                                   0  1 └─────┘└─────┘   └─────┘└─────┘└─────┘            </pre>"
            ]
          },
          "metadata": {},
          "execution_count": 18
        }
      ]
    },
    {
      "cell_type": "code",
      "source": [
        "# conditional cnot-gate teleportation\n",
        "\n",
        "qreg_q = QuantumRegister(7, 'q')\n",
        "creg_c = ClassicalRegister(3, 'c')\n",
        "circuit = QuantumCircuit(qreg_q, creg_c)\n",
        "\n",
        "circuit.h(qreg_q[0])\n",
        "circuit.h(qreg_q[2])\n",
        "circuit.barrier(qreg_q[0], qreg_q[1], qreg_q[2], qreg_q[3], qreg_q[4], qreg_q[5], qreg_q[6])\n",
        "circuit.cx(qreg_q[0], qreg_q[1])\n",
        "circuit.h(qreg_q[2])\n",
        "circuit.h(qreg_q[4])\n",
        "circuit.cx(qreg_q[2], qreg_q[3])\n",
        "circuit.cx(qreg_q[4], qreg_q[5])\n",
        "circuit.cx(qreg_q[5], qreg_q[6])\n",
        "circuit.cx(qreg_q[1], qreg_q[2])\n",
        "circuit.cx(qreg_q[3], qreg_q[4])\n",
        "circuit.h(qreg_q[1])\n",
        "circuit.h(qreg_q[3])\n",
        "circuit.h(qreg_q[5])\n",
        "circuit.barrier(qreg_q[0], qreg_q[1], qreg_q[2], qreg_q[3], qreg_q[4], qreg_q[5], qreg_q[6])\n",
        "circuit.measure(qreg_q[2], creg_c[0])\n",
        "circuit.measure(qreg_q[3], creg_c[1])\n",
        "circuit.measure(qreg_q[4], creg_c[0])\n",
        "circuit.measure(qreg_q[1], creg_c[1])\n",
        "circuit.measure(qreg_q[5], creg_c[2])\n",
        "circuit.z(qreg_q[0]).c_if(creg_c, 1)\n",
        "circuit.x(qreg_q[6]).c_if(creg_c, 1)\n",
        "circuit.measure(qreg_q[0], creg_c[0])\n",
        "circuit.measure(qreg_q[6], creg_c[1])\n",
        "circuit.draw(output='text', fold=-1)"
      ],
      "metadata": {
        "colab": {
          "base_uri": "https://localhost:8080/",
          "height": 294
        },
        "id": "Xj24607WhM4J",
        "outputId": "346b6234-b22a-412d-d8ab-ce8766e287ab"
      },
      "execution_count": 20,
      "outputs": [
        {
          "output_type": "execute_result",
          "data": {
            "text/plain": [
              "     ┌───┐ ░                      ░                 ┌───┐        ┌─┐   \n",
              "q_0: ┤ H ├─░───■──────────────────░─────────────────┤ Z ├────────┤M├───\n",
              "     └───┘ ░ ┌─┴─┐          ┌───┐ ░             ┌─┐ └─╥─┘        └╥┘   \n",
              "q_1: ──────░─┤ X ├───────■──┤ H ├─░─────────────┤M├───╫───────────╫────\n",
              "     ┌───┐ ░ ├───┤     ┌─┴─┐└───┘ ░ ┌─┐         └╥┘   ║           ║    \n",
              "q_2: ┤ H ├─░─┤ H ├──■──┤ X ├──────░─┤M├──────────╫────╫───────────╫────\n",
              "     └───┘ ░ └───┘┌─┴─┐└───┘┌───┐ ░ └╥┘┌─┐       ║    ║           ║    \n",
              "q_3: ──────░──────┤ X ├──■──┤ H ├─░──╫─┤M├───────╫────╫───────────╫────\n",
              "           ░ ┌───┐└───┘┌─┴─┐└───┘ ░  ║ └╥┘   ┌─┐ ║    ║           ║    \n",
              "q_4: ──────░─┤ H ├──■──┤ X ├──────░──╫──╫────┤M├─╫────╫───────────╫────\n",
              "           ░ └───┘┌─┴─┐└───┘┌───┐ ░  ║  ║ ┌─┐└╥┘ ║    ║           ║    \n",
              "q_5: ──────░──────┤ X ├──■──┤ H ├─░──╫──╫─┤M├─╫──╫────╫───────────╫────\n",
              "           ░      └───┘┌─┴─┐└───┘ ░  ║  ║ └╥┘ ║  ║    ║    ┌───┐  ║ ┌─┐\n",
              "q_6: ──────░───────────┤ X ├──────░──╫──╫──╫──╫──╫────╫────┤ X ├──╫─┤M├\n",
              "           ░           └───┘      ░  ║  ║  ║  ║  ║    ║    └─╥─┘  ║ └╥┘\n",
              "                                     ║  ║  ║  ║  ║ ┌──╨──┐┌──╨──┐ ║  ║ \n",
              "c: 3/════════════════════════════════╩══╩══╩══╩══╩═╡ 0x1 ╞╡ 0x1 ╞═╩══╩═\n",
              "                                     0  1  2  0  1 └─────┘└─────┘ 0  1 "
            ],
            "text/html": [
              "<pre style=\"word-wrap: normal;white-space: pre;background: #fff0;line-height: 1.1;font-family: &quot;Courier New&quot;,Courier,monospace\">     ┌───┐ ░                      ░                 ┌───┐        ┌─┐   \n",
              "q_0: ┤ H ├─░───■──────────────────░─────────────────┤ Z ├────────┤M├───\n",
              "     └───┘ ░ ┌─┴─┐          ┌───┐ ░             ┌─┐ └─╥─┘        └╥┘   \n",
              "q_1: ──────░─┤ X ├───────■──┤ H ├─░─────────────┤M├───╫───────────╫────\n",
              "     ┌───┐ ░ ├───┤     ┌─┴─┐└───┘ ░ ┌─┐         └╥┘   ║           ║    \n",
              "q_2: ┤ H ├─░─┤ H ├──■──┤ X ├──────░─┤M├──────────╫────╫───────────╫────\n",
              "     └───┘ ░ └───┘┌─┴─┐└───┘┌───┐ ░ └╥┘┌─┐       ║    ║           ║    \n",
              "q_3: ──────░──────┤ X ├──■──┤ H ├─░──╫─┤M├───────╫────╫───────────╫────\n",
              "           ░ ┌───┐└───┘┌─┴─┐└───┘ ░  ║ └╥┘   ┌─┐ ║    ║           ║    \n",
              "q_4: ──────░─┤ H ├──■──┤ X ├──────░──╫──╫────┤M├─╫────╫───────────╫────\n",
              "           ░ └───┘┌─┴─┐└───┘┌───┐ ░  ║  ║ ┌─┐└╥┘ ║    ║           ║    \n",
              "q_5: ──────░──────┤ X ├──■──┤ H ├─░──╫──╫─┤M├─╫──╫────╫───────────╫────\n",
              "           ░      └───┘┌─┴─┐└───┘ ░  ║  ║ └╥┘ ║  ║    ║    ┌───┐  ║ ┌─┐\n",
              "q_6: ──────░───────────┤ X ├──────░──╫──╫──╫──╫──╫────╫────┤ X ├──╫─┤M├\n",
              "           ░           └───┘      ░  ║  ║  ║  ║  ║    ║    └─╥─┘  ║ └╥┘\n",
              "                                     ║  ║  ║  ║  ║ ┌──╨──┐┌──╨──┐ ║  ║ \n",
              "c: 3/════════════════════════════════╩══╩══╩══╩══╩═╡ 0x1 ╞╡ 0x1 ╞═╩══╩═\n",
              "                                     0  1  2  0  1 └─────┘└─────┘ 0  1 </pre>"
            ]
          },
          "metadata": {},
          "execution_count": 20
        }
      ]
    },
    {
      "cell_type": "code",
      "source": [
        "# gate teleportation\n",
        "\n",
        "qreg_q = QuantumRegister(3, 'q')\n",
        "qreg_xs = QuantumRegister(2, 'xs')\n",
        "creg_alice = ClassicalRegister(2, 'alice')\n",
        "creg_bob = ClassicalRegister(1, 'bob')\n",
        "circuit = QuantumCircuit(qreg_q, qreg_xs, creg_alice, creg_bob)\n",
        "\n",
        "circuit.h(qreg_q[1])\n",
        "circuit.cx(qreg_q[1], qreg_q[2])\n",
        "circuit.barrier(qreg_q[0], qreg_q[1], qreg_q[2], qreg_xs[0], qreg_xs[1])\n",
        "circuit.cx(qreg_q[0], qreg_q[1])\n",
        "circuit.h(qreg_q[0])\n",
        "circuit.barrier(qreg_q[0], qreg_q[1], qreg_q[2], qreg_xs[0], qreg_xs[1])\n",
        "circuit.cx(qreg_q[1], qreg_xs[1])\n",
        "circuit.cx(qreg_q[0], qreg_xs[0])\n",
        "circuit.barrier(qreg_q[0], qreg_q[1], qreg_q[2], qreg_xs[0], qreg_xs[1])\n",
        "circuit.cx(qreg_xs[1], qreg_q[2])\n",
        "circuit.measure(qreg_q[2], creg_bob[0])\n",
        "circuit.draw(output='text', fold=-1)"
      ],
      "metadata": {
        "colab": {
          "base_uri": "https://localhost:8080/",
          "height": 248
        },
        "id": "060pdYAlhZEw",
        "outputId": "b367c423-a6e9-43b3-bd07-9ff63c396e34"
      },
      "execution_count": 21,
      "outputs": [
        {
          "output_type": "execute_result",
          "data": {
            "text/plain": [
              "                    ░      ┌───┐ ░            ░         \n",
              "    q_0: ───────────░───■──┤ H ├─░────────■───░─────────\n",
              "         ┌───┐      ░ ┌─┴─┐└───┘ ░        │   ░         \n",
              "    q_1: ┤ H ├──■───░─┤ X ├──────░───■────┼───░─────────\n",
              "         └───┘┌─┴─┐ ░ └───┘      ░   │    │   ░ ┌───┐┌─┐\n",
              "    q_2: ─────┤ X ├─░────────────░───┼────┼───░─┤ X ├┤M├\n",
              "              └───┘ ░            ░   │  ┌─┴─┐ ░ └─┬─┘└╥┘\n",
              "   xs_0: ───────────░────────────░───┼──┤ X ├─░───┼───╫─\n",
              "                    ░            ░ ┌─┴─┐└───┘ ░   │   ║ \n",
              "   xs_1: ───────────░────────────░─┤ X ├──────░───■───╫─\n",
              "                    ░            ░ └───┘      ░       ║ \n",
              "alice: 2/═════════════════════════════════════════════╬═\n",
              "                                                      ║ \n",
              "  bob: 1/═════════════════════════════════════════════╩═\n",
              "                                                      0 "
            ],
            "text/html": [
              "<pre style=\"word-wrap: normal;white-space: pre;background: #fff0;line-height: 1.1;font-family: &quot;Courier New&quot;,Courier,monospace\">                    ░      ┌───┐ ░            ░         \n",
              "    q_0: ───────────░───■──┤ H ├─░────────■───░─────────\n",
              "         ┌───┐      ░ ┌─┴─┐└───┘ ░        │   ░         \n",
              "    q_1: ┤ H ├──■───░─┤ X ├──────░───■────┼───░─────────\n",
              "         └───┘┌─┴─┐ ░ └───┘      ░   │    │   ░ ┌───┐┌─┐\n",
              "    q_2: ─────┤ X ├─░────────────░───┼────┼───░─┤ X ├┤M├\n",
              "              └───┘ ░            ░   │  ┌─┴─┐ ░ └─┬─┘└╥┘\n",
              "   xs_0: ───────────░────────────░───┼──┤ X ├─░───┼───╫─\n",
              "                    ░            ░ ┌─┴─┐└───┘ ░   │   ║ \n",
              "   xs_1: ───────────░────────────░─┤ X ├──────░───■───╫─\n",
              "                    ░            ░ └───┘      ░       ║ \n",
              "alice: 2/═════════════════════════════════════════════╬═\n",
              "                                                      ║ \n",
              "  bob: 1/═════════════════════════════════════════════╩═\n",
              "                                                      0 </pre>"
            ]
          },
          "metadata": {},
          "execution_count": 21
        }
      ]
    },
    {
      "cell_type": "code",
      "source": [
        "# conditional gate teleportation\n",
        "\n",
        "qreg_q = QuantumRegister(3, 'q')\n",
        "creg_alice = ClassicalRegister(1, 'alice')\n",
        "circuit = QuantumCircuit(qreg_q, creg_alice)\n",
        "\n",
        "circuit.h(qreg_q[1])\n",
        "circuit.cx(qreg_q[1], qreg_q[2])\n",
        "circuit.barrier(qreg_q[0], qreg_q[1], qreg_q[2])\n",
        "circuit.cx(qreg_q[0], qreg_q[1])\n",
        "circuit.h(qreg_q[0])\n",
        "circuit.measure(qreg_q[1], creg_alice[0])\n",
        "circuit.measure(qreg_q[0], creg_alice[0])\n",
        "circuit.barrier(qreg_q[0], qreg_q[1], qreg_q[2])\n",
        "circuit.z(qreg_q[2]).c_if(creg_alice, 1)\n",
        "circuit.x(qreg_q[2]).c_if(creg_alice, 1)\n",
        "circuit.draw(output='text', fold=-1)"
      ],
      "metadata": {
        "colab": {
          "base_uri": "https://localhost:8080/",
          "height": 171
        },
        "id": "rUBd9wCLhxmw",
        "outputId": "9dbac6f6-13fe-4730-aaaf-1696f5148e21"
      },
      "execution_count": 22,
      "outputs": [
        {
          "output_type": "execute_result",
          "data": {
            "text/plain": [
              "                    ░      ┌───┐┌─┐ ░               \n",
              "    q_0: ───────────░───■──┤ H ├┤M├─░───────────────\n",
              "         ┌───┐      ░ ┌─┴─┐└┬─┬┘└╥┘ ░               \n",
              "    q_1: ┤ H ├──■───░─┤ X ├─┤M├──╫──░───────────────\n",
              "         └───┘┌─┴─┐ ░ └───┘ └╥┘  ║  ░  ┌───┐  ┌───┐ \n",
              "    q_2: ─────┤ X ├─░────────╫───╫──░──┤ Z ├──┤ X ├─\n",
              "              └───┘ ░        ║   ║  ░  └─╥─┘  └─╥─┘ \n",
              "                             ║   ║    ┌──╨──┐┌──╨──┐\n",
              "alice: 1/════════════════════╩═══╩════╡ 0x1 ╞╡ 0x1 ╞\n",
              "                             0   0    └─────┘└─────┘"
            ],
            "text/html": [
              "<pre style=\"word-wrap: normal;white-space: pre;background: #fff0;line-height: 1.1;font-family: &quot;Courier New&quot;,Courier,monospace\">                    ░      ┌───┐┌─┐ ░               \n",
              "    q_0: ───────────░───■──┤ H ├┤M├─░───────────────\n",
              "         ┌───┐      ░ ┌─┴─┐└┬─┬┘└╥┘ ░               \n",
              "    q_1: ┤ H ├──■───░─┤ X ├─┤M├──╫──░───────────────\n",
              "         └───┘┌─┴─┐ ░ └───┘ └╥┘  ║  ░  ┌───┐  ┌───┐ \n",
              "    q_2: ─────┤ X ├─░────────╫───╫──░──┤ Z ├──┤ X ├─\n",
              "              └───┘ ░        ║   ║  ░  └─╥─┘  └─╥─┘ \n",
              "                             ║   ║    ┌──╨──┐┌──╨──┐\n",
              "alice: 1/════════════════════╩═══╩════╡ 0x1 ╞╡ 0x1 ╞\n",
              "                             0   0    └─────┘└─────┘</pre>"
            ]
          },
          "metadata": {},
          "execution_count": 22
        }
      ]
    },
    {
      "cell_type": "code",
      "source": [],
      "metadata": {
        "id": "4njvFYjfhzSu"
      },
      "execution_count": null,
      "outputs": []
    }
  ]
}