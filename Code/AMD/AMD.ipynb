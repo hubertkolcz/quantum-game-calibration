{
  "nbformat": 4,
  "nbformat_minor": 0,
  "metadata": {
    "colab": {
      "provenance": []
    },
    "kernelspec": {
      "name": "python3",
      "display_name": "Python 3"
    },
    "language_info": {
      "name": "python"
    }
  },
  "cells": [
    {
      "cell_type": "code",
      "execution_count": 7,
      "metadata": {
        "id": "20FFaDjxs5fZ"
      },
      "outputs": [],
      "source": [
        "import numpy as np\n",
        "from sklearn.neural_network import MLPRegressor\n",
        "\n",
        "def calculate_gradient(secret_value, current_assumption):\n",
        "    return secret_value - current_assumption\n",
        "\n",
        "class NeuralNetwork:\n",
        "    def __init__(self):\n",
        "        self.model = MLPRegressor(hidden_layer_sizes=(10,), max_iter=1000)\n",
        "        self.X = []\n",
        "        self.y = []\n",
        "\n",
        "    def train(self):\n",
        "        if len(self.X) > 0 and len(self.y) > 0:\n",
        "            self.model.fit(self.X, self.y)\n",
        "\n",
        "    def predict(self, assumption):\n",
        "        if len(self.X) == 0:\n",
        "            return assumption\n",
        "        return self.model.predict([[assumption]]).flatten()[0]\n",
        "\n",
        "    def update_data(self, inputs, target):\n",
        "        self.X.append([inputs])\n",
        "        self.y.append(target)"
      ]
    },
    {
      "cell_type": "code",
      "source": [
        "class ClassicalPrincipal:\n",
        "    def __init__(self, secret_value_client, secret_value_server):\n",
        "        self.scores = {}\n",
        "        self.secret_value_client = secret_value_client\n",
        "        self.secret_value_server = secret_value_server\n",
        "\n",
        "    def score_agents(self, client, server):\n",
        "        client_distance = abs(self.secret_value_client - client.assumptions[-1])\n",
        "        server_distance = abs(self.secret_value_server - server.assumptions[-1])\n",
        "\n",
        "        client_score = client.get_performance_score() - client_distance\n",
        "        server_score = server.get_performance_score() - server_distance\n",
        "\n",
        "        self.scores[client.id] = client_score\n",
        "        self.scores[server.id] = server_score\n",
        "\n",
        "    def provide_feedback(self):\n",
        "        feedback = {}\n",
        "        for agent_id, score in self.scores.items():\n",
        "            feedback[agent_id] = 2 if score < 0 else 3 if score < 10 else 4\n",
        "        return feedback"
      ],
      "metadata": {
        "id": "_FWRbmNis9R0"
      },
      "execution_count": 8,
      "outputs": []
    },
    {
      "cell_type": "code",
      "source": [
        "class NeuralNetworkAgent:\n",
        "    def __init__(self, id, secret_value):\n",
        "        self.id = id\n",
        "        self.performance_metric = 0\n",
        "        self.nn = NeuralNetwork()\n",
        "        self.assumptions = [2]\n",
        "        self.previous_score = 0\n",
        "        self.secret_value = secret_value\n",
        "        self.found_correct_assumption = False\n",
        "\n",
        "    def evaluate_performance(self, output):\n",
        "        self.performance_metric = output * 0.8\n",
        "\n",
        "    def get_performance_score(self):\n",
        "        return self.performance_metric\n",
        "\n",
        "    def make_assumption(self):\n",
        "        gradient = calculate_gradient(self.secret_value, self.assumptions[-1])\n",
        "        new_assumption = self.assumptions[-1] + gradient * 0.1\n",
        "        new_assumption = max(1, new_assumption)\n",
        "        self.assumptions.append(new_assumption)\n",
        "\n",
        "        if abs(new_assumption - self.secret_value) <= 1:\n",
        "            self.found_correct_assumption = True\n",
        "        return new_assumption\n",
        "\n",
        "    def optimize_parameters(self, adjustment):\n",
        "        if len(self.assumptions) > 0:\n",
        "            self.assumptions[-1] += adjustment\n",
        "\n",
        "    def track_score(self, score):\n",
        "        score_change = score - self.previous_score\n",
        "        self.previous_score = score\n",
        "        return score_change"
      ],
      "metadata": {
        "id": "eAiU8CAps_-v"
      },
      "execution_count": 9,
      "outputs": []
    },
    {
      "cell_type": "code",
      "source": [
        "class MechanismDesign:\n",
        "    def __init__(self, client, server, principal):\n",
        "        self.client = client\n",
        "        self.server = server\n",
        "        self.principal = principal\n",
        "\n",
        "    def run_simulation(self):\n",
        "        for iteration in range(100):\n",
        "            print(f'---- Iteration {iteration + 1} ----')\n",
        "            self.client.evaluate_performance(output=10 + iteration)\n",
        "            self.server.evaluate_performance(output=12 + iteration)\n",
        "\n",
        "            client_assumption = self.client.make_assumption()\n",
        "            server_assumption = self.server.make_assumption()\n",
        "\n",
        "            self.principal.score_agents(self.client, self.server)\n",
        "\n",
        "            feedback = self.principal.provide_feedback()\n",
        "            self.client.optimize_parameters(feedback[self.client.id])\n",
        "            self.server.optimize_parameters(feedback[self.server.id])\n",
        "\n",
        "            self.client.nn.update_data(self.client.assumptions[-2], feedback[self.client.id])\n",
        "            self.server.nn.update_data(self.server.assumptions[-2], feedback[self.server.id])\n",
        "            self.client.nn.train()\n",
        "            self.server.nn.train()\n",
        "\n",
        "            print(f\"Client {self.client.id}\\n  Performance Metric: {self.client.performance_metric}\\n  Assumption: {client_assumption}\")\n",
        "            print(f\"Server {self.server.id}\\n  Performance Metric: {self.server.performance_metric}\\n  Assumption: {server_assumption}\")\n",
        "\n",
        "            if self.client.found_correct_assumption:\n",
        "                print(\"EUREKA! Client wins!\")\n",
        "                break\n",
        "            if self.server.found_correct_assumption:\n",
        "                print(\"EUREKA! Server wins!\")\n",
        "                break\n",
        "\n",
        "    def evaluate_metrics(self):\n",
        "        avg_performance_client = self.client.performance_metric\n",
        "        avg_performance_server = self.server.performance_metric\n",
        "        return avg_performance_client, avg_performance_server"
      ],
      "metadata": {
        "id": "irl_xdz1tDSi"
      },
      "execution_count": 10,
      "outputs": []
    },
    {
      "cell_type": "code",
      "source": [
        "# Instantiate components with secret values\n",
        "secret_value_client = 157\n",
        "secret_value_server = 203\n",
        "client = NeuralNetworkAgent(id='Client1', secret_value=secret_value_client)\n",
        "server = NeuralNetworkAgent(id='Server1', secret_value=secret_value_server)\n",
        "principal = ClassicalPrincipal(secret_value_client=secret_value_client, secret_value_server=secret_value_server)\n",
        "md_system = MechanismDesign(client, server, principal)\n",
        "\n",
        "# Run the simulation with feedback loop\n",
        "md_system.run_simulation()"
      ],
      "metadata": {
        "colab": {
          "base_uri": "https://localhost:8080/"
        },
        "id": "7HhpXtqLQqqN",
        "outputId": "b4346640-486a-443e-f9a8-f8d1bb96a4e0"
      },
      "execution_count": 55,
      "outputs": [
        {
          "output_type": "stream",
          "name": "stdout",
          "text": [
            "---- Iteration 1 ----\n",
            "Client Client1\n",
            "  Performance Metric: 8.0\n",
            "  Assumption: 17.5\n",
            "Server Server1\n",
            "  Performance Metric: 9.600000000000001\n",
            "  Assumption: 22.1\n",
            "---- Iteration 2 ----\n",
            "Client Client1\n",
            "  Performance Metric: 8.8\n",
            "  Assumption: 33.25\n",
            "Server Server1\n",
            "  Performance Metric: 10.4\n",
            "  Assumption: 41.99\n",
            "---- Iteration 3 ----\n"
          ]
        },
        {
          "output_type": "stream",
          "name": "stderr",
          "text": [
            "/usr/local/lib/python3.10/dist-packages/sklearn/neural_network/_multilayer_perceptron.py:691: ConvergenceWarning: Stochastic Optimizer: Maximum iterations (1000) reached and the optimization hasn't converged yet.\n",
            "  warnings.warn(\n"
          ]
        },
        {
          "output_type": "stream",
          "name": "stdout",
          "text": [
            "Client Client1\n",
            "  Performance Metric: 9.600000000000001\n",
            "  Assumption: 47.425\n",
            "Server Server1\n",
            "  Performance Metric: 11.200000000000001\n",
            "  Assumption: 59.891000000000005\n",
            "---- Iteration 4 ----\n",
            "Client Client1\n",
            "  Performance Metric: 10.4\n",
            "  Assumption: 60.1825\n",
            "Server Server1\n",
            "  Performance Metric: 12.0\n",
            "  Assumption: 76.0019\n",
            "---- Iteration 5 ----\n",
            "Client Client1\n",
            "  Performance Metric: 11.200000000000001\n",
            "  Assumption: 71.66425\n",
            "Server Server1\n",
            "  Performance Metric: 12.8\n",
            "  Assumption: 90.50171\n",
            "---- Iteration 6 ----\n"
          ]
        },
        {
          "output_type": "stream",
          "name": "stderr",
          "text": [
            "/usr/local/lib/python3.10/dist-packages/sklearn/neural_network/_multilayer_perceptron.py:691: ConvergenceWarning: Stochastic Optimizer: Maximum iterations (1000) reached and the optimization hasn't converged yet.\n",
            "  warnings.warn(\n"
          ]
        },
        {
          "output_type": "stream",
          "name": "stdout",
          "text": [
            "Client Client1\n",
            "  Performance Metric: 12.0\n",
            "  Assumption: 81.99782499999999\n",
            "Server Server1\n",
            "  Performance Metric: 13.600000000000001\n",
            "  Assumption: 103.551539\n",
            "---- Iteration 7 ----\n"
          ]
        },
        {
          "output_type": "stream",
          "name": "stderr",
          "text": [
            "/usr/local/lib/python3.10/dist-packages/sklearn/neural_network/_multilayer_perceptron.py:691: ConvergenceWarning: Stochastic Optimizer: Maximum iterations (1000) reached and the optimization hasn't converged yet.\n",
            "  warnings.warn(\n"
          ]
        },
        {
          "output_type": "stream",
          "name": "stdout",
          "text": [
            "Client Client1\n",
            "  Performance Metric: 12.8\n",
            "  Assumption: 91.2980425\n",
            "Server Server1\n",
            "  Performance Metric: 14.4\n",
            "  Assumption: 115.29638510000001\n",
            "---- Iteration 8 ----\n",
            "Client Client1\n",
            "  Performance Metric: 13.600000000000001\n",
            "  Assumption: 99.66823825\n",
            "Server Server1\n",
            "  Performance Metric: 15.200000000000001\n",
            "  Assumption: 125.86674659\n",
            "---- Iteration 9 ----\n",
            "Client Client1\n",
            "  Performance Metric: 14.4\n",
            "  Assumption: 107.201414425\n",
            "Server Server1\n",
            "  Performance Metric: 16.0\n",
            "  Assumption: 135.380071931\n",
            "---- Iteration 10 ----\n",
            "Client Client1\n",
            "  Performance Metric: 15.200000000000001\n",
            "  Assumption: 113.9812729825\n",
            "Server Server1\n",
            "  Performance Metric: 16.8\n",
            "  Assumption: 143.9420647379\n",
            "---- Iteration 11 ----\n",
            "Client Client1\n",
            "  Performance Metric: 16.0\n",
            "  Assumption: 120.08314568425\n",
            "Server Server1\n",
            "  Performance Metric: 17.6\n",
            "  Assumption: 151.64785826411\n",
            "---- Iteration 12 ----\n",
            "Client Client1\n",
            "  Performance Metric: 16.8\n",
            "  Assumption: 125.57483111582499\n",
            "Server Server1\n",
            "  Performance Metric: 18.400000000000002\n",
            "  Assumption: 158.583072437699\n",
            "---- Iteration 13 ----\n",
            "Client Client1\n",
            "  Performance Metric: 17.6\n",
            "  Assumption: 130.51734800424248\n",
            "Server Server1\n",
            "  Performance Metric: 19.200000000000003\n",
            "  Assumption: 164.8247651939291\n",
            "---- Iteration 14 ----\n",
            "Client Client1\n",
            "  Performance Metric: 18.400000000000002\n",
            "  Assumption: 134.96561320381824\n",
            "Server Server1\n",
            "  Performance Metric: 20.0\n",
            "  Assumption: 170.4422886745362\n",
            "---- Iteration 15 ----\n",
            "Client Client1\n",
            "  Performance Metric: 19.200000000000003\n",
            "  Assumption: 138.9690518834364\n",
            "Server Server1\n",
            "  Performance Metric: 20.8\n",
            "  Assumption: 175.49805980708257\n",
            "---- Iteration 16 ----\n"
          ]
        },
        {
          "output_type": "stream",
          "name": "stderr",
          "text": [
            "/usr/local/lib/python3.10/dist-packages/sklearn/neural_network/_multilayer_perceptron.py:691: ConvergenceWarning: Stochastic Optimizer: Maximum iterations (1000) reached and the optimization hasn't converged yet.\n",
            "  warnings.warn(\n"
          ]
        },
        {
          "output_type": "stream",
          "name": "stdout",
          "text": [
            "Client Client1\n",
            "  Performance Metric: 20.0\n",
            "  Assumption: 143.47214669509276\n",
            "Server Server1\n",
            "  Performance Metric: 21.6\n",
            "  Assumption: 180.04825382637432\n",
            "---- Iteration 17 ----\n",
            "Client Client1\n",
            "  Performance Metric: 20.8\n",
            "  Assumption: 147.5249320255835\n",
            "Server Server1\n",
            "  Performance Metric: 22.400000000000002\n",
            "  Assumption: 184.1434284437369\n",
            "---- Iteration 18 ----\n",
            "Client Client1\n",
            "  Performance Metric: 21.6\n",
            "  Assumption: 152.07243882302515\n",
            "Server Server1\n",
            "  Performance Metric: 23.200000000000003\n",
            "  Assumption: 188.7290855993632\n",
            "---- Iteration 19 ----\n",
            "Client Client1\n",
            "  Performance Metric: 22.400000000000002\n",
            "  Assumption: 156.16519494072264\n",
            "Server Server1\n",
            "  Performance Metric: 24.0\n",
            "  Assumption: 192.85617703942688\n",
            "EUREKA! Client wins!\n"
          ]
        },
        {
          "output_type": "stream",
          "name": "stderr",
          "text": [
            "/usr/local/lib/python3.10/dist-packages/sklearn/neural_network/_multilayer_perceptron.py:691: ConvergenceWarning: Stochastic Optimizer: Maximum iterations (1000) reached and the optimization hasn't converged yet.\n",
            "  warnings.warn(\n"
          ]
        }
      ]
    },
    {
      "cell_type": "markdown",
      "source": [
        "The scale of security and performance in the described system is determined by two key metrics:\n",
        "\n",
        "1. **Security (M1)**: This is measured by the output of the discriminator, which evaluates the randomness and security of the data generated. The security level is crucial for ensuring that the quantum network remains protected against unauthorized access and data breaches.\n",
        "\n",
        "2. **Performance (M2)**: This is measured by the output of the generator, which assesses the efficiency and effectiveness of the quantum computation. Performance metrics include quantum volume and gate decoherence time, which are critical for optimizing the network's computational capabilities.\n",
        "\n",
        "The system aims to balance these metrics by adjusting parameters ($\\theta_1$ and $\\theta_2$) based on feedback from both security and performance evaluations. The ultimate goal is to achieve a Nash equilibrium where both the classical client and quantum server are satisfied with the outcomes, and neither has an incentive to change their strategy unilaterally."
      ],
      "metadata": {
        "id": "qhuHHjLrNFLB"
      }
    }
  ]
}